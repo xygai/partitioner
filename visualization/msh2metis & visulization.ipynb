{
 "cells": [
  {
   "cell_type": "code",
   "execution_count": 180,
   "metadata": {},
   "outputs": [],
   "source": [
    "import pygmsh\n",
    "import numpy as np\n",
    "import meshio"
   ]
  },
  {
   "cell_type": "markdown",
   "metadata": {},
   "source": [
    "#### read in gmesh file (before partition)"
   ]
  },
  {
   "cell_type": "code",
   "execution_count": 181,
   "metadata": {},
   "outputs": [],
   "source": [
    "msh = meshio.read(\"ell1.msh\")"
   ]
  },
  {
   "cell_type": "code",
   "execution_count": 182,
   "metadata": {},
   "outputs": [],
   "source": [
    "for cell in msh.cells:\n",
    "    if cell.type == \"triangle\":\n",
    "        triangle_cells = cell.data\n",
    "    elif  cell.type == \"tetra\":\n",
    "        tetra_cells = cell.data\n",
    "    elif  cell.type == \"hexahedron\":\n",
    "        hexahedron_cells = cell.data\n",
    "    elif  cell.type == \"quad\":\n",
    "        quad_cells = cell.data"
   ]
  },
  {
   "cell_type": "markdown",
   "metadata": {},
   "source": [
    "#### write mesh to file with METIS consumable mesh format (before partition)"
   ]
  },
  {
   "cell_type": "code",
   "execution_count": 183,
   "metadata": {},
   "outputs": [],
   "source": [
    "# METIS mesh format\n",
    "#  ==== METIS 4 ====\n",
    "#  METIS type code  meshio cell type    details                        notes\n",
    "#  1                triangle            2D triangular elements         (vertices can be listed in any order)\n",
    "#  2                tetra               3D tetrahedral elements        (vertices can be listed in any order)\n",
    "#  3                hexahedron          3D hexahedral (brick) elements (vertices must be listed in a particular order)\n",
    "#  4                quad                2D quadrilateral elements.     (vertices must be listed in a particular order)\n",
    "\n",
    "#  ==== METIS 5 ====\n",
    "# METIS type code should be 1, see manual\n",
    "metis_version = 5"
   ]
  },
  {
   "cell_type": "code",
   "execution_count": 184,
   "metadata": {},
   "outputs": [],
   "source": [
    "type_map = {'triangle':1, 'tetra':2, 'hexahedron':3, 'quad':4}\n",
    "type_list = [type_map.get(x) for x in list(msh.cells_dict.keys()) if type_map.get(x) is not None]\n",
    "if len(type_list) == 1:\n",
    "    mesh_type = type_list[0]\n",
    "    cells = msh.cells_dict[ list(type_map.keys())[list(type_map.values()).index(mesh_type)] ]\n",
    "    if metis_version > 4:\n",
    "        mesh_type = 1\n",
    "else:\n",
    "    raise Exception(\"mixed element mesh?\")"
   ]
  },
  {
   "cell_type": "code",
   "execution_count": 185,
   "metadata": {},
   "outputs": [],
   "source": [
    "## convert from 0 indexing to 1 indexing\n",
    "cells += 1"
   ]
  },
  {
   "cell_type": "code",
   "execution_count": 186,
   "metadata": {},
   "outputs": [],
   "source": [
    "with open(\"ell.mesh\", \"wb\") as f:\n",
    "    #  The first line lists the number of elements, and their type.\n",
    "    f.write(' '.join([str(i) for i in [len(cells), mesh_type]]).encode('ascii'))\n",
    "    f.write(b\"\\n\")\n",
    "    \n",
    "    # The rest lines contain the element node array\n",
    "    np.savetxt(f, cells, fmt = '%d', delimiter = ' ')"
   ]
  },
  {
   "cell_type": "markdown",
   "metadata": {},
   "source": [
    "#### read in partition result"
   ]
  },
  {
   "cell_type": "code",
   "execution_count": 162,
   "metadata": {},
   "outputs": [],
   "source": [
    "#part_file = \"/Users/xgai/Downloads/ell/dual/ell.mesh.epart.4\"\n",
    "#part_file =\"/Users/xgai/Downloads/cube/cube.mesh.epart.8\""
   ]
  },
  {
   "cell_type": "code",
   "execution_count": 163,
   "metadata": {},
   "outputs": [],
   "source": [
    "with open(part_file, \"r\") as f:\n",
    "    part = [int(i) for i in f.read().split('\\n') if i != '']"
   ]
  },
  {
   "cell_type": "code",
   "execution_count": 165,
   "metadata": {},
   "outputs": [],
   "source": [
    "def save_triangle_part_obj(name, part, msh):\n",
    "    # add path\n",
    "    for part_id in set(part):\n",
    "        triangle_mesh =meshio.Mesh(points=msh.points, cells=[(\"triangle\", triangle_cells[[i == part_id for i in part]])])\n",
    "        meshio.write(name + str(part_id) + \".obj\", triangle_mesh, \"obj\")"
   ]
  },
  {
   "cell_type": "code",
   "execution_count": 169,
   "metadata": {},
   "outputs": [],
   "source": [
    "def save_tetra_part_obj(name, part, msh):\n",
    "    # add path\n",
    "    for part_id in set(part):\n",
    "        tetra_mesh =meshio.Mesh(points=msh.points, cells=[(\"tetra\", tetra_cells[[i == part_id for i in part]])])\n",
    "        #meshio.write(name + str(part_id) + \".obj\", tetra_mesh, \"obj\")\n",
    "        meshio.write(name + str(part_id) + \".vtk\", tetra_mesh, \"vtk\")"
   ]
  },
  {
   "cell_type": "code",
   "execution_count": 170,
   "metadata": {},
   "outputs": [],
   "source": [
    "#save_triangle_part_obj('test', part, msh)\n",
    "save_tetra_part_obj('test', part, msh) # for 3d, load all the parts to paraview and assign different color"
   ]
  },
  {
   "cell_type": "code",
   "execution_count": 33,
   "metadata": {},
   "outputs": [],
   "source": [
    "# # lines and points can not be written to .obj file\n",
    "# triangle_mesh =meshio.Mesh(points=msh.points, cells=[(\"triangle\", triangle_cells)])\n",
    "# meshio.write(\"tri0.obj\", triangle_mesh0,\"obj\")"
   ]
  },
  {
   "cell_type": "markdown",
   "metadata": {},
   "source": [
    "#### read the obj file generated by meshio for visualization"
   ]
  },
  {
   "cell_type": "code",
   "execution_count": 173,
   "metadata": {},
   "outputs": [],
   "source": [
    "import open3d as o3d"
   ]
  },
  {
   "cell_type": "code",
   "execution_count": 174,
   "metadata": {},
   "outputs": [],
   "source": [
    "# # read in coordinates file and draw vertices\n",
    "# pcd = o3d.io.read_point_cloud(\"/Users/xgai/Downloads/ell/ell.xyz\", format='xyz')\n",
    "# np.asarray(pcd.points)\n",
    "# o3d.visualization.draw_geometries([pcd])"
   ]
  },
  {
   "cell_type": "code",
   "execution_count": 175,
   "metadata": {},
   "outputs": [],
   "source": [
    "def read_objs_for_visual(name, part):\n",
    "    mesh_lists = []\n",
    "    for part_id in set(part):\n",
    "        tmp_mesh = o3d.io.read_triangle_mesh(name + str(part_id)+ \".obj\")\n",
    "        tmp_mesh.paint_uniform_color([np.random.uniform(), np.random.uniform(), np.random.uniform()])\n",
    "        mesh_lists.append(tmp_mesh)\n",
    "    return mesh_lists"
   ]
  },
  {
   "cell_type": "code",
   "execution_count": 177,
   "metadata": {
    "collapsed": true
   },
   "outputs": [
    {
     "name": "stdout",
     "output_type": "stream",
     "text": [
      "\u001b[1;33m[Open3D WARNING] Read geometry::TriangleMesh failed: unknown file extension.\u001b[0;m\n",
      "\u001b[1;33m[Open3D WARNING] Read geometry::TriangleMesh failed: unknown file extension.\u001b[0;m\n",
      "\u001b[1;33m[Open3D WARNING] Read geometry::TriangleMesh failed: unknown file extension.\u001b[0;m\n",
      "\u001b[1;33m[Open3D WARNING] Read geometry::TriangleMesh failed: unknown file extension.\u001b[0;m\n",
      "\u001b[1;33m[Open3D WARNING] Read geometry::TriangleMesh failed: unknown file extension.\u001b[0;m\n",
      "\u001b[1;33m[Open3D WARNING] Read geometry::TriangleMesh failed: unknown file extension.\u001b[0;m\n",
      "\u001b[1;33m[Open3D WARNING] Read geometry::TriangleMesh failed: unknown file extension.\u001b[0;m\n",
      "\u001b[1;33m[Open3D WARNING] Read geometry::TriangleMesh failed: unknown file extension.\u001b[0;m\n"
     ]
    },
    {
     "ename": "RuntimeError",
     "evalue": "\u001b[1;31m[Open3D ERROR] [CreateCoordinateFrame] size <= 0\u001b[0;m",
     "output_type": "error",
     "traceback": [
      "\u001b[0;31m---------------------------------------------------------------------------\u001b[0m",
      "\u001b[0;31mRuntimeError\u001b[0m                              Traceback (most recent call last)",
      "\u001b[0;32m<ipython-input-177-d25c0f8e02e6>\u001b[0m in \u001b[0;36m<module>\u001b[0;34m\u001b[0m\n\u001b[1;32m      1\u001b[0m \u001b[0mmeshes\u001b[0m \u001b[0;34m=\u001b[0m \u001b[0mread_vtks_for_visual\u001b[0m\u001b[0;34m(\u001b[0m\u001b[0;34m'test'\u001b[0m\u001b[0;34m,\u001b[0m \u001b[0mpart\u001b[0m\u001b[0;34m)\u001b[0m\u001b[0;34m\u001b[0m\u001b[0;34m\u001b[0m\u001b[0m\n\u001b[0;32m----> 2\u001b[0;31m \u001b[0mo3d\u001b[0m\u001b[0;34m.\u001b[0m\u001b[0mvisualization\u001b[0m\u001b[0;34m.\u001b[0m\u001b[0mdraw_geometries\u001b[0m\u001b[0;34m(\u001b[0m\u001b[0mmeshes\u001b[0m\u001b[0;34m,\u001b[0m \u001b[0mmesh_show_wireframe\u001b[0m \u001b[0;34m=\u001b[0m\u001b[0;32mTrue\u001b[0m\u001b[0;34m)\u001b[0m\u001b[0;34m\u001b[0m\u001b[0;34m\u001b[0m\u001b[0m\n\u001b[0m",
      "\u001b[0;31mRuntimeError\u001b[0m: \u001b[1;31m[Open3D ERROR] [CreateCoordinateFrame] size <= 0\u001b[0;m"
     ]
    }
   ],
   "source": [
    "meshes = read_objs_for_visual('test', part)\n",
    "o3d.visualization.draw_geometries(meshes, mesh_show_wireframe =True)"
   ]
  },
  {
   "cell_type": "code",
   "execution_count": 88,
   "metadata": {
    "collapsed": true
   },
   "outputs": [
    {
     "data": {
      "text/plain": [
       "array([[0.        , 0.        , 0.        ],\n",
       "       [2.        , 0.        , 0.        ],\n",
       "       [2.        , 1.        , 0.        ],\n",
       "       [1.        , 1.        , 0.        ],\n",
       "       [1.        , 2.        , 0.        ],\n",
       "       [0.        , 2.        , 0.        ],\n",
       "       [0.5       , 0.        , 0.        ],\n",
       "       [1.        , 0.        , 0.        ],\n",
       "       [1.5       , 0.        , 0.        ],\n",
       "       [2.        , 0.5       , 0.        ],\n",
       "       [1.5       , 1.        , 0.        ],\n",
       "       [1.        , 1.5       , 0.        ],\n",
       "       [0.5       , 2.        , 0.        ],\n",
       "       [0.        , 1.5       , 0.        ],\n",
       "       [0.        , 1.        , 0.        ],\n",
       "       [0.        , 0.5       , 0.        ],\n",
       "       [0.6248979 , 0.6248979 , 0.        ],\n",
       "       [0.36519608, 0.89460784, 0.        ],\n",
       "       [0.89460784, 0.36519608, 0.        ],\n",
       "       [0.49609011, 1.29651022, 0.        ],\n",
       "       [1.29651022, 0.47823295, 0.        ],\n",
       "       [0.37260574, 0.37260574, 0.        ],\n",
       "       [0.68621475, 1.70272267, 0.        ],\n",
       "       [0.35364535, 1.67703474, 0.        ],\n",
       "       [1.69578469, 0.3075144 , 0.        ],\n",
       "       [1.625     , 0.625     , 0.        ]])"
      ]
     },
     "execution_count": 88,
     "metadata": {},
     "output_type": "execute_result"
    }
   ],
   "source": [
    "# # read in objfile\n",
    "# mesh = o3d.io.read_triangle_mesh(\"test.obj\")\n",
    "# #print(mesh)\n",
    "# # get vertices coords and element node array\n",
    "# np.asarray(mesh.vertices)\n",
    "# np.asarray(mesh.triangles)\n",
    "# # color the mesh\n",
    "# tmp_mesh.paint_uniform_color([1,0,0])\n",
    "# o3d.visualization.draw_geometries([mesh], mesh_show_wireframe =True)"
   ]
  }
 ],
 "metadata": {
  "kernelspec": {
   "display_name": "Python 3",
   "language": "python",
   "name": "python3"
  },
  "language_info": {
   "codemirror_mode": {
    "name": "ipython",
    "version": 3
   },
   "file_extension": ".py",
   "mimetype": "text/x-python",
   "name": "python",
   "nbconvert_exporter": "python",
   "pygments_lexer": "ipython3",
   "version": "3.7.6"
  }
 },
 "nbformat": 4,
 "nbformat_minor": 4
}
